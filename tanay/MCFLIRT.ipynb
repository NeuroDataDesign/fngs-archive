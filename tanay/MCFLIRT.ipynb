{
 "cells": [
  {
   "cell_type": "code",
   "execution_count": 1,
   "metadata": {
    "collapsed": true
   },
   "outputs": [],
   "source": [
    "import numpy as np\n",
    "import nibabel as nb\n",
    "import os\n",
    "from nibabel.testing import data_path\n",
    "\n",
    "def mcflirtgood(dirname):\n",
    "    if not os.path.exists(dirname):\n",
    "        os.makedirs(dirname)\n",
    "\n",
    "    identity = np.diag([1,1,1,1])\n",
    "    brains = np.ones((70, 70, 50, 30), dtype=np.int16)\n",
    "    for i in range(30):\n",
    "        d = np.random.randint(low=1, high=10, size=1, dtype=np.int16)[0]\n",
    "        d2 = 20 - d\n",
    "        d3 = np.random.randint(low=1, high=10, size=1, dtype=np.int16)[0]\n",
    "        d4 = 20 - d3\n",
    "        brain = np.ones((70,70,50), dtype=np.int16)\n",
    "        zero1 = np.zeros((d,70,50), dtype=np.int16)\n",
    "        zero2 = np.zeros((d2,70,50), dtype=np.int16)\n",
    "        zero3 = np.zeros((70,d3,50), dtype=np.int16)\n",
    "        zero4 = np.zeros((70,d4,50), dtype=np.int16)\n",
    "        brain[0:d,:,:] = zero1\n",
    "        brain[-d2:,:,:] = zero2\n",
    "        brain[:,0:d3,:] = zero3\n",
    "        brain[:,-d4:,:] = zero4\n",
    "        brains[:,:,:,i] = brain\n",
    "    brainimg = nb.Nifti1Image(brains, affine=identity)\n",
    "    nb.save(brainimg, dirname + \"/inp.nii.gz\")\n",
    "\n",
    "def mcflirtbad(dirname):\n",
    "    if not os.path.exists(dirname):\n",
    "        os.makedirs(dirname)\n",
    "\n",
    "    identity = np.diag([1,1,1,1])\n",
    "    brains = np.ones((70, 70, 50, 30), dtype=np.int16)\n",
    "    for i in range(30):\n",
    "        brain = np.ones((70,70,50), dtype=np.int16)\n",
    "        n = 70\n",
    "        a = np.random.randint(low=20, high=40, size=1, dtype=np.int16)[0]\n",
    "        b = np.random.randint(low=20, high=40, size=1, dtype=np.int16)[0]\n",
    "        c = 25\n",
    "        r = np.random.randint(low=20, high=40, size=1, dtype=np.int16)[0]\n",
    "        y,x,z = np.ogrid[-a:n-a,-b:n-b,-c:50-c]\n",
    "        mask = x*x + y*y + z*z <= r*r\n",
    "        brain[mask] = 0\n",
    "        brains[:,:,:,i] = brain\n",
    "    brainimg = nb.Nifti1Image(brains, affine=identity)\n",
    "    nb.save(brainimg, dirname + \"/inp.nii.gz\")"
   ]
  },
  {
   "cell_type": "markdown",
   "metadata": {},
   "source": [
    "The code above produces good and bad simulations for MCFLIRT. \n",
    "\n",
    "Each good simulation is a timeseries with 30 time-steps where the data is a square matrix. In each time-step, the square is moved/translated to a different location.\n",
    "\n",
    "Each bad simulation is a timeseries with 30 time-steps where the data is a square matrix of 1s with a circular matrix of zeros masked away. In each time-step, the circle is scaled and moved differently. This simulates the motion of an amoeba-like object.\n",
    "\n",
    "Below are screenshotted images of 1 good simulation and 1 bad simulation. Each image shows the data at 1 time-step. Clearly, only a small subset of the data is shown here. To see the entire sim data, refer to the accompanying zip files.\n",
    "\n",
    "Good sim:"
   ]
  },
  {
   "cell_type": "markdown",
   "metadata": {},
   "source": [
    "![goodsim](mcflirt_pics/goodsim0.jpg)![goodsim](mcflirt_pics/goodsim1.jpg)![goodsim](mcflirt_pics/goodsim2.jpg)![goodsim](mcflirt_pics/goodsim3.jpg)"
   ]
  },
  {
   "cell_type": "markdown",
   "metadata": {
    "collapsed": true
   },
   "source": [
    "Bad sim:"
   ]
  },
  {
   "cell_type": "markdown",
   "metadata": {},
   "source": [
    "![badsim](mcflirt_pics/badsim0.jpg)![badsim](mcflirt_pics/badsim1.jpg)![badsim](mcflirt_pics/badsim2.jpg)![badsim](mcflirt_pics/badsim3.jpg)"
   ]
  },
  {
   "cell_type": "markdown",
   "metadata": {},
   "source": [
    "The simulated data above looks correct."
   ]
  },
  {
   "cell_type": "markdown",
   "metadata": {},
   "source": [
    "#### Pseudocode\n",
    "\n",
    "MCFLIRT is a motion correction algorithm for brain images. The input is a timeseries where each time-step is a brain scan. The goal is to eliminate small changes between timesteps that are caused by unwanted motion. The algorithm works as follows:\n",
    "\n",
    "1) Pick reference scan (we set this to the first time-step)\n",
    "\n",
    "2) For each timestep 't':\n",
    "\n",
    "       register brain scan at time 't' to the reference scan, using FLIRT\n",
    "       \n",
    "That is it. As you can see, the algorithm is very simple, and the most important bit is basically just FLIRT, for which I have done a separate markdown."
   ]
  },
  {
   "cell_type": "markdown",
   "metadata": {},
   "source": [
    "The algorithm should perform very well on the good simulations. This is because the timesteps in the good simulations are simple linear translations of the reference scan (timestep 0), and so FLIRT should be effective. Almost all the motion should be corrected easily."
   ]
  },
  {
   "cell_type": "markdown",
   "metadata": {},
   "source": [
    "The algorithm should perform poorly on the bad simulations. This is because the timesteps in the bad simulations are not linear transformations of the reference scan (timestep 0), and so FLIRT should be ineffective. Almost none of the motion should be corrected."
   ]
  },
  {
   "cell_type": "markdown",
   "metadata": {},
   "source": [
    "Below, we show the results of running the algorithm on the simulated data. Again, we only show a tiny subsample of the results in order to preserve space. Please refer to the attached zip for all the data.\n",
    "\n",
    "Good sim:"
   ]
  },
  {
   "cell_type": "markdown",
   "metadata": {},
   "source": [
    "![goodsimflirted](mcflirt_pics/goodsimflirted0.jpg)![goodsimflirted](mcflirt_pics/goodsimflirted1.jpg)![goodsimflirted](mcflirt_pics/goodsimflirted2.jpg)![goodsimflirted](mcflirt_pics/goodsimflirted3.jpg)"
   ]
  },
  {
   "cell_type": "markdown",
   "metadata": {},
   "source": [
    "Bad sim:"
   ]
  },
  {
   "cell_type": "markdown",
   "metadata": {},
   "source": [
    "![badsimflirted](mcflirt_pics/badsimflirted0.jpg)![badsimflirted](mcflirt_pics/badsimflirted1.jpg)![badsimflirted](mcflirt_pics/badsimflirted2.jpg)![badsimflirted](mcflirt_pics/badsimflirted3.jpg)"
   ]
  },
  {
   "cell_type": "markdown",
   "metadata": {},
   "source": [
    "To quantitatively assess the results, we will compute an error metric as follows: Given a simulation, for each timestep 't', we will take the difference between the scan at 't' and the reference scan (timestep 0) and sum all the elements in the matrix. This gives us the number of pixels that were \"wrong\" in timestep 't'. We will then average these errors for each timestep to get the error for the entire simulation. We will then divide this value by the total number of pixels in a scan (70 x 70 = 4900) and multiply by 100 to obtain the error in percentage form. "
   ]
  },
  {
   "cell_type": "code",
   "execution_count": null,
   "metadata": {
    "collapsed": true
   },
   "outputs": [],
   "source": [
    "import numpy as np\n",
    "import nibabel as nb\n",
    "import os\n",
    "from nibabel.testing import data_path\n",
    "\n",
    "if __name__ == '__main__':\n",
    "    gooderrors = []\n",
    "    for i in range(10):\n",
    "        flirted = nb.load(str(i) + \"/flirted.nii.gz\").get_data()\n",
    "        toterror = 0\n",
    "        refscan = flirted[:,:,25,0]\n",
    "        for t in range(30):\n",
    "            scan = flirted[:,:,25,t]\n",
    "            scanerror = np.sum(np.absolute(refscan - scan))\n",
    "            toterror = toterror + scanerror\n",
    "        error = toterror / 30\n",
    "        gooderrors.append(error)\n",
    "\n",
    "    \n",
    "    baderrors = []\n",
    "    for i in range(10,20):\n",
    "        flirted = nb.load(str(i) + \"/flirted.nii.gz\").get_data()\n",
    "        toterror = 0\n",
    "        refscan = flirted[:,:,25,0]\n",
    "        for t in range(30):\n",
    "            scan = flirted[:,:,25,t]\n",
    "            scanerror = np.sum(np.absolute(refscan - scan))\n",
    "            toterror = toterror + scanerror\n",
    "        error = toterror / 30\n",
    "        baderrors.append(error)\n",
    "\n",
    "\n",
    "    print gooderrors\n",
    "    print baderrors"
   ]
  },
  {
   "cell_type": "markdown",
   "metadata": {},
   "source": [
    "[15.061224489795919, 6.8163265306122449, 36.265306122448983, 11.979591836734693, 11.857142857142858, 2.9591836734693877, 6.0, 3.489795918367347, 12.122448979591836, 7.8571428571428568]\n",
    "[23.326530612244898, 27.183673469387752, 23.0, 37.285714285714285, 32.714285714285715, 24.612244897959183, 19.979591836734695, 22.285714285714285, 23.959183673469386, 22.469387755102041]"
   ]
  },
  {
   "cell_type": "markdown",
   "metadata": {},
   "source": [
    "The above data will be visualized using scatter plots. We will also compute population performance by simply average the error for each simulation in the good and bad setting (separately). This will give us an average error for each setting, which we can compare."
   ]
  },
  {
   "cell_type": "code",
   "execution_count": null,
   "metadata": {
    "collapsed": true
   },
   "outputs": [],
   "source": [
    "x = range(len(gooderrors))\n",
    "plt.scatter(x, gooderrors, c='b', s=40, label='good sims')\n",
    "x = range(len(baderrors))\n",
    "plt.scatter(x, baderrors, c='r', s=40, label='bad sims')\n",
    "plt.legend(loc='upper right')\n",
    "plt.title('Errors')\n",
    "plt.savefig(\"errors.png\")\n",
    "plt.cla()\n",
    "\n",
    "goodavg = np.mean(gooderrors)\n",
    "badavg = np.mean(baderrors)\n",
    "\n",
    "print \"Good simulations error: \", goodavg\n",
    "print \"Bad simulations error: \", badavg"
   ]
  },
  {
   "cell_type": "markdown",
   "metadata": {},
   "source": [
    "![errors](mcflirt_pics/errors.jpg)"
   ]
  },
  {
   "cell_type": "markdown",
   "metadata": {},
   "source": [
    "Good simulations error:  8.36257382247  \n",
    "Bad simulations error:  25.6816326531"
   ]
  },
  {
   "cell_type": "markdown",
   "metadata": {},
   "source": [
    "For real data, we will use small subsets of the BNU2 and SWU4 datasets. MCFLIRT performed well on these brains, as it was able to effectively remove a lot of the unwanted motion.\n",
    "\n",
    "Since it is not viable nor helpful to screenshot different timesteps of the motion-corrected brains, the reader should view the corrected brains on their own using FSLview. An example will be presented to Jovo during the deliverable meeting."
   ]
  },
  {
   "cell_type": "code",
   "execution_count": null,
   "metadata": {
    "collapsed": true
   },
   "outputs": [],
   "source": []
  }
 ],
 "metadata": {
  "anaconda-cloud": {},
  "kernelspec": {
   "display_name": "Python [Root]",
   "language": "python",
   "name": "Python [Root]"
  },
  "language_info": {
   "codemirror_mode": {
    "name": "ipython",
    "version": 3
   },
   "file_extension": ".py",
   "mimetype": "text/x-python",
   "name": "python",
   "nbconvert_exporter": "python",
   "pygments_lexer": "ipython3",
   "version": "3.5.2"
  }
 },
 "nbformat": 4,
 "nbformat_minor": 0
}
