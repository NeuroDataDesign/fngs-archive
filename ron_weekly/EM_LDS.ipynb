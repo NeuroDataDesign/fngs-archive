{
 "cells": [
  {
   "cell_type": "markdown",
   "metadata": {},
   "source": [
    "# Expectation maximization for Linear Dynamical System Identification\n",
    "\n",
    "In this notebook, we will present a high level overall summary of the paper [An M-Estimator for Reduced-Rank High-Dimensional Linear Dynamical System Identification](http://arxiv.org/pdf/1509.03927v1.pdf), as well as a univariate implementation of the algorithm in Python.\n",
    "\n",
    "## High level summary of solution\n",
    " - Generalization of the classical Kalman Filter-Smoother Expectation-Maximization algorithm\n",
    " - Want to fit statistical model to time series data\n",
    "\n",
    "## Motivation\n",
    " - abundance of high dimensional time series data, we want to fit statistical models to them\n",
    " - Existing methods cannot cope with high dimensional nature of these problems because of computational and statistical reasons\n",
    " - Parameters for Kalman filters are often unknown - opportunity to use unsupervised learning\n",
    " - 3 main issues: dense high dimensional matrices, estimators are numerically unstable, computation time\n",
    " \n",
    "## The model\n",
    "\n",
    "Observed variables: $Y=(y_1,\\dots,y_T)$ \n",
    "\n",
    "Latent variables: $X=(x_1,\\dots,x_T)$\n",
    "\n",
    "$$P(Y|X) = \\prod_{t=1}^T P(y_t | y_{0:t-1}, x_{0:t})$$\n",
    "\n",
    "$$P(X) = P(x_0) \\prod_{t=1}^T P(x_t | x_{0:t-1})$$\n",
    "\n",
    "Time invariant state space model makes the following simplifications:\n",
    "\n",
    "$$P(y_t | y_{0:t-1}, x_{0:t})  \\approx P(y_t | x_t)$$\n",
    "\n",
    "$$P(x_t | x_{0:t-1}) \\approx P(x_t | x_{t-1})$$\n",
    "\n",
    "Linear dynamical systems (resembles Kalman filters):\n",
    "\n",
    "$$ x_{t+1}= Ax_t+Y'_t  \\quad Y'_t\\sim N(\\mathbf{0},Q),\\quad x_0 \\sim N(\\mathbf{\\pi}_0,V_0)$$\n",
    "\n",
    "$$y_t=Cx_t+\\mathbf{v}_t,\\qquad \\mathbf{v}_t\\sim N(\\mathbf{0},R)$$\n",
    "\n",
    "**Notation:**\n",
    "\n",
    "$A \\in \\mathbb{R^{d\\times d}}$ is state transformation matrix\n",
    "\n",
    "$C \\in \\mathbb{R^{p\\times d}}$ is generative matrix\n",
    "\n",
    "$x_t \\in \\mathbb{R^{d}}$\n",
    "\n",
    "$y_t \\in \\mathbb{R^{p}}$\n",
    "\n",
    "$R \\in \\mathbb{R^{p \\times p}}$ is output noise covariance matrix\n",
    "\n",
    "$Q \\in \\mathbb{R^{d \\times d}}$ is state noise covariance matrix\n",
    "\n",
    "$\\pi_0 \\in \\mathbb{R^{d}}$ is initial state mean\n",
    "\n",
    "$V_0 \\in \\mathbb{R^{d \\times d}}$ is state covarian"
   ]
  },
  {
   "cell_type": "code",
   "execution_count": null,
   "metadata": {
    "collapsed": true
   },
   "outputs": [],
   "source": []
  }
 ],
 "metadata": {
  "kernelspec": {
   "display_name": "Python [Root]",
   "language": "python",
   "name": "Python [Root]"
  },
  "language_info": {
   "codemirror_mode": {
    "name": "ipython",
    "version": 2
   },
   "file_extension": ".py",
   "mimetype": "text/x-python",
   "name": "python",
   "nbconvert_exporter": "python",
   "pygments_lexer": "ipython2",
   "version": "2.7.12"
  }
 },
 "nbformat": 4,
 "nbformat_minor": 0
}
